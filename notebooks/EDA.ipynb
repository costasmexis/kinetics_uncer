{
 "cells": [
  {
   "cell_type": "code",
   "execution_count": 1,
   "id": "e6d3a5a9-ade9-4c2f-a954-4946c6af1cfc",
   "metadata": {},
   "outputs": [],
   "source": [
    "import numpy as np\n",
    "import pandas as pd\n",
    "import seaborn as sns\n",
    "import matplotlib.pyplot as plt\n",
    "\n",
    "import pickle\n",
    "\n",
    "from sklearn.linear_model import LogisticRegression\n",
    "from sklearn.ensemble import RandomForestClassifier\n",
    "from sklearn.tree import DecisionTreeClassifier\n",
    "from sklearn.svm import SVC\n",
    "\n",
    "from sklearn.preprocessing import StandardScaler, MinMaxScaler\n",
    "from sklearn.metrics import roc_auc_score, accuracy_score, f1_score, precision_score, recall_score, confusion_matrix\n",
    "from sklearn.model_selection import RandomizedSearchCV\n",
    "\n",
    "from catboost import CatBoostClassifier\n",
    "from sklearn import tree\n",
    "from sklearn.tree import _tree\n",
    "\n",
    "\n",
    "import xgboost as xgb\n",
    "\n",
    "SEED = 42"
   ]
  },
  {
   "cell_type": "markdown",
   "id": "e8f6cab7-2578-41c7-8402-971fc7dd75ce",
   "metadata": {},
   "source": [
    "# Filename to save/load models"
   ]
  },
  {
   "cell_type": "code",
   "execution_count": 2,
   "id": "1602b425-799a-4ed5-b058-bf8c8c41fecd",
   "metadata": {},
   "outputs": [],
   "source": [
    "filename = '../models/test 65%/'"
   ]
  },
  {
   "cell_type": "markdown",
   "id": "72de9506-fcc5-4f41-91dd-2dc87dc04b7e",
   "metadata": {},
   "source": [
    "# Functions defining"
   ]
  },
  {
   "cell_type": "code",
   "execution_count": 3,
   "id": "14b151e7-d762-42a8-b677-f67b4c607874",
   "metadata": {
    "jupyter": {
     "source_hidden": true
    },
    "tags": []
   },
   "outputs": [],
   "source": [
    "def print_scores(y_true, y_pred):\n",
    "    print('ROCAUC score:',roc_auc_score(y_true, y_pred).round(4))\n",
    "    print('Accuracy score:',accuracy_score(y_true, y_pred).round(4))\n",
    "    print('F1 score:',f1_score(y_true, y_pred).round(4))\n",
    "    print('Precision score:',precision_score(y_true, y_pred).round(4))\n",
    "    print('Recall:',recall_score(y_true, y_pred).round(4))\n",
    "\n",
    "def run_model(model, X_train, y_train, X_test, y_test):\n",
    "    model.fit(X_train, y_train)\n",
    "    y_pred = model.predict(X_test)\n",
    "    score = accuracy_score(y_test, y_pred)\n",
    "    return score, y_pred\n",
    "\n",
    "def tune_model(model, param_grid, n_iter, X_train, y_train):\n",
    "    grid = RandomizedSearchCV(model, param_grid, verbose=20,\n",
    "        scoring='roc_auc', cv=3, n_iter=n_iter)\n",
    "    grid.fit(X_train, y_train)\n",
    "    best_model = grid.best_estimator_\n",
    "    return best_model"
   ]
  },
  {
   "cell_type": "markdown",
   "id": "4f5b0ea1-9c18-4442-a6ac-48f647b2d6b0",
   "metadata": {},
   "source": [
    "# Load data"
   ]
  },
  {
   "cell_type": "code",
   "execution_count": 4,
   "id": "f38b2761-fc7a-4b7f-9097-656044335372",
   "metadata": {},
   "outputs": [],
   "source": [
    "df = pd.read_csv('../data/Parameters_90%stability.csv')\n",
    "df = df.drop(['Unnamed: 0'], axis = 1)"
   ]
  },
  {
   "cell_type": "code",
   "execution_count": 5,
   "id": "bfa759e8-d1c8-4f7a-a157-e20fdf5e30cf",
   "metadata": {},
   "outputs": [
    {
     "data": {
      "text/plain": [
       "(372, 1411)"
      ]
     },
     "execution_count": 5,
     "metadata": {},
     "output_type": "execute_result"
    }
   ],
   "source": [
    "df.shape"
   ]
  },
  {
   "cell_type": "markdown",
   "id": "7c210944-9352-49e0-b7be-2d6638089ff1",
   "metadata": {},
   "source": [
    "# Look at target variable"
   ]
  },
  {
   "cell_type": "code",
   "execution_count": 6,
   "id": "6f480b56-25fb-4b1d-adeb-46a5bd782ed0",
   "metadata": {},
   "outputs": [
    {
     "data": {
      "image/png": "[encoded data removed]",
      "text/plain": [
       "<Figure size 432x288 with 1 Axes>"
      ]
     },
     "metadata": {
      "needs_background": "light"
     },
     "output_type": "display_data"
    }
   ],
   "source": [
    "sns.countplot(data=df, x='Stability')\n",
    "plt.show()"
   ]
  },
  {
   "cell_type": "code",
   "execution_count": 7,
   "id": "965d5ef5-34bd-4122-819f-986fc212de6c",
   "metadata": {},
   "outputs": [
    {
     "name": "stdout",
     "output_type": "stream",
     "text": [
      "The Stability Index is: SI = 19.6237 %\n"
     ]
    }
   ],
   "source": [
    "SI = len(df[df['Stability']==1])/len(df) * 100\n",
    "print(\"The Stability Index is: SI =\",round(SI, 4), \"%\")"
   ]
  },
  {
   "cell_type": "markdown",
   "id": "e356c1ec-13d0-4cdf-b00a-54e86188a827",
   "metadata": {},
   "source": [
    "Imbalanced dataset"
   ]
  },
  {
   "cell_type": "markdown",
   "id": "4ceae74f-479a-461d-9a0d-339b56ceb920",
   "metadata": {},
   "source": [
    "# Split train - test"
   ]
  },
  {
   "cell_type": "code",
   "execution_count": 8,
   "id": "e13b76a5-5b94-41be-8af2-557ac9063e80",
   "metadata": {},
   "outputs": [],
   "source": [
    "from sklearn.model_selection import train_test_split\n",
    "\n",
    "# Load X and Y \n",
    "X = df.drop(['Stability'], axis = 1)\n",
    "y = df['Stability']\n",
    "\n",
    "x_train, x_test, y_train, y_test = train_test_split(X, y, test_size=.35,\n",
    "                                                stratify=y, random_state=SEED)\n",
    "\n",
    "y_train = pd.DataFrame(y_train)\n",
    "y_test = pd.DataFrame(y_test)"
   ]
  },
  {
   "cell_type": "code",
   "execution_count": 9,
   "id": "6c08cef5-ecd5-4888-8e34-cf426a62f973",
   "metadata": {},
   "outputs": [
    {
     "name": "stdout",
     "output_type": "stream",
     "text": [
      "train (241, 1410)\n",
      "test (131, 1410)\n"
     ]
    }
   ],
   "source": [
    "print('train',x_train.shape)\n",
    "print('test',x_test.shape)"
   ]
  },
  {
   "cell_type": "code",
   "execution_count": 10,
   "id": "5a15f012-cde8-4933-9f27-8373965225ad",
   "metadata": {},
   "outputs": [
    {
     "name": "stdout",
     "output_type": "stream",
     "text": [
      "The Stability Index on TRAIN SET is: SI = 19.5021 %\n",
      "The Stability Index on TEST SET is: SI = 19.8473 %\n"
     ]
    }
   ],
   "source": [
    "SI_train = len(y_train[y_train['Stability']==1])/len(y_train) * 100\n",
    "print(\"The Stability Index on TRAIN SET is: SI =\",round(SI_train, 4), \"%\")\n",
    "\n",
    "SI_test = len(y_test[y_test['Stability']==1])/len(y_test) * 100\n",
    "print(\"The Stability Index on TEST SET is: SI =\",round(SI_test, 4), \"%\")"
   ]
  },
  {
   "cell_type": "markdown",
   "id": "4fb8fac9-c6b1-4f42-821f-50fd1ca9a5b7",
   "metadata": {},
   "source": [
    "# _Feature_names_ and _class_names_"
   ]
  },
  {
   "cell_type": "code",
   "execution_count": 11,
   "id": "175bcf36-a837-4f1f-abf0-6e56b0c8df48",
   "metadata": {},
   "outputs": [],
   "source": [
    "class_names = y_train['Stability'].unique().astype(str)\n",
    "feature_names = x_train.columns.values"
   ]
  },
  {
   "cell_type": "markdown",
   "id": "4a8b7374-2c93-4f05-9198-902a88d34500",
   "metadata": {},
   "source": [
    "# Normalize data"
   ]
  },
  {
   "cell_type": "code",
   "execution_count": 12,
   "id": "39da4c04-2d12-466a-8d32-fdf186085a5c",
   "metadata": {},
   "outputs": [],
   "source": [
    "scaler = StandardScaler()\n",
    "\n",
    "X_train = scaler.fit_transform(x_train)\n",
    "X_test = scaler.transform(x_test)\n",
    "\n",
    "X_train = pd.DataFrame(X_train, columns=x_train.columns)\n",
    "X_train.index = x_train.index\n",
    "\n",
    "X_test = pd.DataFrame(X_test, columns=x_test.columns)\n",
    "X_test.index = x_test.index"
   ]
  },
  {
   "cell_type": "markdown",
   "id": "0bdac763-014f-4839-8ac4-3969e7051ed2",
   "metadata": {},
   "source": [
    "## SVM"
   ]
  },
  {
   "cell_type": "code",
   "execution_count": 13,
   "id": "c136ede0-7ec5-4059-ba40-905120a6a926",
   "metadata": {
    "tags": []
   },
   "outputs": [],
   "source": [
    "try:\n",
    "    \n",
    "    # load the model from disk\n",
    "    best_svc = pickle.load(open(filename+'/svc_model.sav', 'rb'))\n",
    "\n",
    "except FileNotFoundError:\n",
    "\n",
    "    # =================\n",
    "    # SVC\n",
    "    # =================\n",
    "\n",
    "    param_grid_svc = {'C': [0.001, 0.005, 0.01, 0.02, 0.05, 0.08, 1, 1.5, 2, 2.5, 3, 5, 10, 12, 20, 25, 50],\n",
    "                'gamma': [0.002, 0.003, 0.004, 0.001, 0.005, 0.01, 0.05, 0.1, 0.2, 0.5],\n",
    "                'kernel': ['rbf', 'linear']\n",
    "    }\n",
    "\n",
    "    svc = SVC(random_state=SEED)\n",
    "    best_svc = tune_model(svc, param_grid_svc, 1000, X_train, y_train.values.ravel())\n",
    "    score, y_pred_svc = run_model(best_svc, X_train, y_train.values.ravel(),\n",
    "        X_test, y_test.values.ravel())\n",
    "\n",
    "    pickle.dump(best_svc, open(filename+'/svc_model.sav', 'wb'))   \n"
   ]
  },
  {
   "cell_type": "code",
   "execution_count": 14,
   "id": "d035139d-ee5a-4166-a30c-fd6d6e44f1a1",
   "metadata": {},
   "outputs": [
    {
     "name": "stdout",
     "output_type": "stream",
     "text": [
      "SVC(C=0.02, gamma=0.002, kernel='linear', random_state=42)\n"
     ]
    }
   ],
   "source": [
    "print(best_svc)"
   ]
  },
  {
   "cell_type": "code",
   "execution_count": 15,
   "id": "7b7dad20-05ae-4824-8fbb-131ad611900a",
   "metadata": {},
   "outputs": [
    {
     "name": "stdout",
     "output_type": "stream",
     "text": [
      "ROCAUC score: 0.7262\n",
      "Accuracy score: 0.8626\n",
      "F1 score: 0.5909\n",
      "Precision score: 0.7222\n",
      "Recall: 0.5\n"
     ]
    }
   ],
   "source": [
    "y_pred_svc = best_svc.predict(X_test)\n",
    "print_scores(y_test, y_pred_svc)"
   ]
  },
  {
   "cell_type": "markdown",
   "id": "4de1599d-35c1-438b-bf30-1c400f9a285e",
   "metadata": {},
   "source": [
    "# Feature Selection using _Boruta_"
   ]
  },
  {
   "cell_type": "code",
   "execution_count": 72,
   "id": "e8cea97f-40e4-43c5-b89a-1ee24d23b392",
   "metadata": {
    "collapsed": true,
    "jupyter": {
     "outputs_hidden": true
    },
    "tags": []
   },
   "outputs": [
    {
     "name": "stdout",
     "output_type": "stream",
     "text": [
      "Iteration: \t1 / 10\n",
      "Confirmed: \t0\n",
      "Tentative: \t1410\n",
      "Rejected: \t0\n",
      "Iteration: \t2 / 10\n",
      "Confirmed: \t0\n",
      "Tentative: \t1410\n",
      "Rejected: \t0\n",
      "Iteration: \t3 / 10\n",
      "Confirmed: \t0\n",
      "Tentative: \t1410\n",
      "Rejected: \t0\n",
      "Iteration: \t4 / 10\n",
      "Confirmed: \t0\n",
      "Tentative: \t1410\n",
      "Rejected: \t0\n",
      "Iteration: \t5 / 10\n",
      "Confirmed: \t0\n",
      "Tentative: \t1410\n",
      "Rejected: \t0\n",
      "Iteration: \t6 / 10\n",
      "Confirmed: \t0\n",
      "Tentative: \t1410\n",
      "Rejected: \t0\n",
      "Iteration: \t7 / 10\n",
      "Confirmed: \t0\n",
      "Tentative: \t1410\n",
      "Rejected: \t0\n",
      "Iteration: \t8 / 10\n",
      "Confirmed: \t0\n",
      "Tentative: \t115\n",
      "Rejected: \t1295\n",
      "Iteration: \t9 / 10\n",
      "Confirmed: \t5\n",
      "Tentative: \t110\n",
      "Rejected: \t1295\n",
      "\n",
      "\n",
      "BorutaPy finished running.\n",
      "\n",
      "Iteration: \t10 / 10\n",
      "Confirmed: \t5\n",
      "Tentative: \t47\n",
      "Rejected: \t1295\n",
      "Ranking:  [ 134  663  223 ...  538 1247  956]\n",
      "No. of significant features:  5\n"
     ]
    }
   ],
   "source": [
    "from boruta import BorutaPy\n",
    "\n",
    "rfc = RandomForestClassifier(random_state=SEED)\n",
    "boruta_selector = BorutaPy(rfc, n_estimators='auto', verbose=2, random_state=SEED, max_iter=10)\n",
    "boruta_selector.fit(np.array(X_train), np.array(y_train).reshape(-1,))  \n",
    "print(\"Ranking: \",boruta_selector.ranking_)          \n",
    "print(\"No. of significant features: \", boruta_selector.n_features_) "
   ]
  },
  {
   "cell_type": "code",
   "execution_count": 81,
   "id": "67ff75f8-778f-4496-97d3-5562d4926f50",
   "metadata": {},
   "outputs": [
    {
     "name": "stdout",
     "output_type": "stream",
     "text": [
      "Feature: Gamma_IG3PS               Rank: 1,  Keep: True\n",
      "Feature: Gamma_TPI                 Rank: 1,  Keep: True\n",
      "Feature: Gamma_ALATA_L             Rank: 1,  Keep: True\n",
      "Feature: sigma_km_product2_ALCD26xi Rank: 1,  Keep: True\n",
      "Feature: sigma_km_product2_GF6PTA  Rank: 1,  Keep: True\n"
     ]
    }
   ],
   "source": [
    "# zip my names, ranks, and decisions in a single iterable\n",
    "feature_ranks = list(zip(X_train.columns, \n",
    "                         boruta_selector.ranking_, \n",
    "                         boruta_selector.support_))\n",
    "\n",
    "# iterate through and print out the results\n",
    "for feat in feature_ranks:\n",
    "    if(feat[2]==True):\n",
    "        print('Feature: {:<25} Rank: {},  Keep: {}'.format(feat[0], feat[1], feat[2]))"
   ]
  }
 ],
 "metadata": {
  "kernelspec": {
   "display_name": "Python 3 (ipykernel)",
   "language": "python",
   "name": "python3"
  },
  "language_info": {
   "codemirror_mode": {
    "name": "ipython",
    "version": 3
   },
   "file_extension": ".py",
   "mimetype": "text/x-python",
   "name": "python",
   "nbconvert_exporter": "python",
   "pygments_lexer": "ipython3",
   "version": "3.8.10"
  }
 },
 "nbformat": 4,
 "nbformat_minor": 5
}
