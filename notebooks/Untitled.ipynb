{
 "cells": [
  {
   "cell_type": "code",
   "execution_count": 1,
   "id": "e6d3a5a9-ade9-4c2f-a954-4946c6af1cfc",
   "metadata": {},
   "outputs": [],
   "source": [
    "import numpy as np\n",
    "import pandas as pd\n",
    "import seaborn as sns\n",
    "import matplotlib.pyplot as plt\n",
    "\n",
    "import pickle\n",
    "\n",
    "from sklearn.linear_model import LogisticRegression\n",
    "from sklearn.ensemble import RandomForestClassifier\n",
    "from sklearn.tree import DecisionTreeClassifier\n",
    "from sklearn.svm import SVC\n",
    "\n",
    "from sklearn.preprocessing import StandardScaler, MinMaxScaler\n",
    "from sklearn.metrics import roc_auc_score, accuracy_score, f1_score, precision_score, recall_score, confusion_matrix\n",
    "from sklearn.model_selection import RandomizedSearchCV\n",
    "\n",
    "from catboost import CatBoostClassifier\n",
    "from sklearn import tree\n",
    "from sklearn.tree import _tree\n",
    "\n",
    "\n",
    "import xgboost as xgb\n",
    "\n",
    "SEED = 42"
   ]
  },
  {
   "cell_type": "markdown",
   "id": "72de9506-fcc5-4f41-91dd-2dc87dc04b7e",
   "metadata": {},
   "source": [
    "# Functions defining"
   ]
  },
  {
   "cell_type": "code",
   "execution_count": null,
   "id": "950911ba-fa8f-4308-a56f-308224218a79",
   "metadata": {
    "jupyter": {
     "source_hidden": true
    },
    "tags": []
   },
   "outputs": [],
   "source": [
    "def get_rules(tree, feature_names, class_names):\n",
    "    tree_ = tree.tree_\n",
    "    feature_name = [\n",
    "        feature_names[i] if i != _tree.TREE_UNDEFINED else \"undefined!\"\n",
    "        for i in tree_.feature\n",
    "    ]\n",
    "\n",
    "    paths = []\n",
    "    path = []\n",
    "    \n",
    "    def recurse(node, path, paths):\n",
    "        \n",
    "        if tree_.feature[node] != _tree.TREE_UNDEFINED:\n",
    "            name = feature_name[node]\n",
    "            threshold = tree_.threshold[node]\n",
    "            p1, p2 = list(path), list(path)\n",
    "            p1 += [f\"({name} <= {np.round(threshold, 3)})\"]\n",
    "            recurse(tree_.children_left[node], p1, paths)\n",
    "            p2 += [f\"({name} > {np.round(threshold, 3)})\"]\n",
    "            recurse(tree_.children_right[node], p2, paths)\n",
    "        else:\n",
    "            path += [(tree_.value[node], tree_.n_node_samples[node])]\n",
    "            paths += [path]\n",
    "            \n",
    "    recurse(0, path, paths)\n",
    "\n",
    "    # sort by samples count\n",
    "    samples_count = [p[-1][1] for p in paths]\n",
    "    ii = list(np.argsort(samples_count))\n",
    "    paths = [paths[i] for i in reversed(ii)]\n",
    "    \n",
    "    rules = []\n",
    "    for path in paths:\n",
    "        rule = \"if \"\n",
    "        \n",
    "        for p in path[:-1]:\n",
    "            if rule != \"if \":\n",
    "                rule += \" and \"\n",
    "            rule += str(p)\n",
    "        rule += \" then \"\n",
    "        if class_names is None:\n",
    "            rule += \"response: \"+str(np.round(path[-1][0][0][0],3))\n",
    "        else:\n",
    "            classes = path[-1][0][0]\n",
    "            l = np.argmax(classes)\n",
    "            rule += f\"class: {class_names[l]} (proba: {np.round(100.0*classes[l]/np.sum(classes),2)}%)\"\n",
    "        rule += f\" | based on {path[-1][1]:,} samples\"\n",
    "        rules += [rule]\n",
    "        \n",
    "    return rules"
   ]
  },
  {
   "cell_type": "code",
   "execution_count": null,
   "id": "14b151e7-d762-42a8-b677-f67b4c607874",
   "metadata": {
    "jupyter": {
     "source_hidden": true
    },
    "tags": []
   },
   "outputs": [],
   "source": [
    "def print_scores(y_true, y_pred):\n",
    "    print('ROCAUC score:',roc_auc_score(y_true, y_pred).round(4))\n",
    "    print('Accuracy score:',accuracy_score(y_true, y_pred).round(4))\n",
    "    print('F1 score:',f1_score(y_true, y_pred).round(4))\n",
    "    print('Precision score:',precision_score(y_true, y_pred).round(4))\n",
    "    print('Recall:',recall_score(y_true, y_pred).round(4))\n",
    "\n",
    "def run_model(model, X_train, y_train, X_test, y_test):\n",
    "    model.fit(X_train, y_train)\n",
    "    y_pred = model.predict(X_test)\n",
    "    score = accuracy_score(y_test, y_pred)\n",
    "    return score, y_pred\n",
    "\n",
    "def tune_model(model, param_grid, n_iter, X_train, y_train):\n",
    "    grid = RandomizedSearchCV(model, param_grid, verbose=20,\n",
    "        scoring='roc_auc', cv=3, n_iter=n_iter)\n",
    "    grid.fit(X_train, y_train)\n",
    "    best_model = grid.best_estimator_\n",
    "    return best_model"
   ]
  },
  {
   "cell_type": "markdown",
   "id": "4f5b0ea1-9c18-4442-a6ac-48f647b2d6b0",
   "metadata": {},
   "source": [
    "# Load data"
   ]
  },
  {
   "cell_type": "code",
   "execution_count": 2,
   "id": "f38b2761-fc7a-4b7f-9097-656044335372",
   "metadata": {},
   "outputs": [
    {
     "data": {
      "text/html": [
       "<div>\n",
       "<style scoped>\n",
       "    .dataframe tbody tr th:only-of-type {\n",
       "        vertical-align: middle;\n",
       "    }\n",
       "\n",
       "    .dataframe tbody tr th {\n",
       "        vertical-align: top;\n",
       "    }\n",
       "\n",
       "    .dataframe thead th {\n",
       "        text-align: right;\n",
       "    }\n",
       "</style>\n",
       "<table border=\"1\" class=\"dataframe\">\n",
       "  <thead>\n",
       "    <tr style=\"text-align: right;\">\n",
       "      <th></th>\n",
       "      <th>Gamma_AATA</th>\n",
       "      <th>Gamma_IPPS</th>\n",
       "      <th>Gamma_IPPSm</th>\n",
       "      <th>Gamma_DHQTi</th>\n",
       "      <th>Gamma_ADCS</th>\n",
       "      <th>Gamma_ABTA</th>\n",
       "      <th>Gamma_PGL</th>\n",
       "      <th>Gamma_ACACT1r</th>\n",
       "      <th>Gamma_ACOAHim</th>\n",
       "      <th>Gamma_ACOTAim</th>\n",
       "      <th>...</th>\n",
       "      <th>sigma_km_product_ccm2tp</th>\n",
       "      <th>sigma_km_substrate_pca2tp</th>\n",
       "      <th>sigma_km_product_pca2tp</th>\n",
       "      <th>sigma_km_substrate_r2073_1</th>\n",
       "      <th>sigma_km_product_r2073_1</th>\n",
       "      <th>sigma_km_substrate1_r_4235</th>\n",
       "      <th>sigma_km_product1_r_4235</th>\n",
       "      <th>sigma_km_substrate2_r_4235</th>\n",
       "      <th>sigma_km_product2_r_4235</th>\n",
       "      <th>Stability</th>\n",
       "    </tr>\n",
       "  </thead>\n",
       "  <tbody>\n",
       "    <tr>\n",
       "      <th>0</th>\n",
       "      <td>0.072899</td>\n",
       "      <td>0.005997</td>\n",
       "      <td>7.820000e-15</td>\n",
       "      <td>0.006337</td>\n",
       "      <td>4.840000e-08</td>\n",
       "      <td>0.976899</td>\n",
       "      <td>0.081794</td>\n",
       "      <td>0.906322</td>\n",
       "      <td>5.030000e-12</td>\n",
       "      <td>0.198783</td>\n",
       "      <td>...</td>\n",
       "      <td>0.333927</td>\n",
       "      <td>0.112272</td>\n",
       "      <td>0.241996</td>\n",
       "      <td>0.580106</td>\n",
       "      <td>0.658892</td>\n",
       "      <td>0.950488</td>\n",
       "      <td>0.214360</td>\n",
       "      <td>0.271523</td>\n",
       "      <td>0.527818</td>\n",
       "      <td>1</td>\n",
       "    </tr>\n",
       "    <tr>\n",
       "      <th>1</th>\n",
       "      <td>0.072899</td>\n",
       "      <td>0.005997</td>\n",
       "      <td>7.820000e-15</td>\n",
       "      <td>0.006337</td>\n",
       "      <td>4.840000e-08</td>\n",
       "      <td>0.976899</td>\n",
       "      <td>0.081794</td>\n",
       "      <td>0.906322</td>\n",
       "      <td>5.030000e-12</td>\n",
       "      <td>0.198783</td>\n",
       "      <td>...</td>\n",
       "      <td>0.693616</td>\n",
       "      <td>0.302981</td>\n",
       "      <td>0.761936</td>\n",
       "      <td>0.059439</td>\n",
       "      <td>0.938477</td>\n",
       "      <td>0.722462</td>\n",
       "      <td>0.442469</td>\n",
       "      <td>0.426947</td>\n",
       "      <td>0.517426</td>\n",
       "      <td>0</td>\n",
       "    </tr>\n",
       "    <tr>\n",
       "      <th>2</th>\n",
       "      <td>0.071643</td>\n",
       "      <td>0.006483</td>\n",
       "      <td>3.750000e-15</td>\n",
       "      <td>0.006192</td>\n",
       "      <td>4.870000e-08</td>\n",
       "      <td>0.976932</td>\n",
       "      <td>0.089406</td>\n",
       "      <td>0.906766</td>\n",
       "      <td>3.250000e-12</td>\n",
       "      <td>0.200557</td>\n",
       "      <td>...</td>\n",
       "      <td>0.333927</td>\n",
       "      <td>0.112272</td>\n",
       "      <td>0.241996</td>\n",
       "      <td>0.580106</td>\n",
       "      <td>0.658892</td>\n",
       "      <td>0.950488</td>\n",
       "      <td>0.214360</td>\n",
       "      <td>0.271523</td>\n",
       "      <td>0.527818</td>\n",
       "      <td>0</td>\n",
       "    </tr>\n",
       "  </tbody>\n",
       "</table>\n",
       "<p>3 rows × 1411 columns</p>\n",
       "</div>"
      ],
      "text/plain": [
       "   Gamma_AATA  Gamma_IPPS   Gamma_IPPSm  Gamma_DHQTi    Gamma_ADCS  \\\n",
       "0    0.072899    0.005997  7.820000e-15     0.006337  4.840000e-08   \n",
       "1    0.072899    0.005997  7.820000e-15     0.006337  4.840000e-08   \n",
       "2    0.071643    0.006483  3.750000e-15     0.006192  4.870000e-08   \n",
       "\n",
       "   Gamma_ABTA  Gamma_PGL  Gamma_ACACT1r  Gamma_ACOAHim  Gamma_ACOTAim  ...  \\\n",
       "0    0.976899   0.081794       0.906322   5.030000e-12       0.198783  ...   \n",
       "1    0.976899   0.081794       0.906322   5.030000e-12       0.198783  ...   \n",
       "2    0.976932   0.089406       0.906766   3.250000e-12       0.200557  ...   \n",
       "\n",
       "   sigma_km_product_ccm2tp  sigma_km_substrate_pca2tp  \\\n",
       "0                 0.333927                   0.112272   \n",
       "1                 0.693616                   0.302981   \n",
       "2                 0.333927                   0.112272   \n",
       "\n",
       "   sigma_km_product_pca2tp  sigma_km_substrate_r2073_1  \\\n",
       "0                 0.241996                    0.580106   \n",
       "1                 0.761936                    0.059439   \n",
       "2                 0.241996                    0.580106   \n",
       "\n",
       "   sigma_km_product_r2073_1  sigma_km_substrate1_r_4235  \\\n",
       "0                  0.658892                    0.950488   \n",
       "1                  0.938477                    0.722462   \n",
       "2                  0.658892                    0.950488   \n",
       "\n",
       "   sigma_km_product1_r_4235  sigma_km_substrate2_r_4235  \\\n",
       "0                  0.214360                    0.271523   \n",
       "1                  0.442469                    0.426947   \n",
       "2                  0.214360                    0.271523   \n",
       "\n",
       "   sigma_km_product2_r_4235  Stability  \n",
       "0                  0.527818          1  \n",
       "1                  0.517426          0  \n",
       "2                  0.527818          0  \n",
       "\n",
       "[3 rows x 1411 columns]"
      ]
     },
     "execution_count": 2,
     "metadata": {},
     "output_type": "execute_result"
    }
   ],
   "source": [
    "df = pd.read_csv('../data/Parameters_90%stability.csv')\n",
    "df = df.drop(['Unnamed: 0'], axis = 1)\n",
    "df.head(3)"
   ]
  },
  {
   "cell_type": "code",
   "execution_count": 3,
   "id": "bfa759e8-d1c8-4f7a-a157-e20fdf5e30cf",
   "metadata": {},
   "outputs": [
    {
     "data": {
      "text/plain": [
       "(372, 1411)"
      ]
     },
     "execution_count": 3,
     "metadata": {},
     "output_type": "execute_result"
    }
   ],
   "source": [
    "df.shape"
   ]
  },
  {
   "cell_type": "markdown",
   "id": "7c210944-9352-49e0-b7be-2d6638089ff1",
   "metadata": {},
   "source": [
    "# Look at target variable"
   ]
  },
  {
   "cell_type": "code",
   "execution_count": 4,
   "id": "6f480b56-25fb-4b1d-adeb-46a5bd782ed0",
   "metadata": {},
   "outputs": [
    {
     "data": {
      "image/png": "[encoded data removed]",
      "text/plain": [
       "<Figure size 432x288 with 1 Axes>"
      ]
     },
     "metadata": {
      "needs_background": "light"
     },
     "output_type": "display_data"
    }
   ],
   "source": [
    "sns.countplot(data=df, x='Stability')\n",
    "plt.show()"
   ]
  },
  {
   "cell_type": "code",
   "execution_count": 5,
   "id": "965d5ef5-34bd-4122-819f-986fc212de6c",
   "metadata": {},
   "outputs": [
    {
     "name": "stdout",
     "output_type": "stream",
     "text": [
      "The Stability Index is: SI = 19.6237 %\n"
     ]
    }
   ],
   "source": [
    "SI = len(df[df['Stability']==1])/len(df) * 100\n",
    "print(\"The Stability Index is: SI =\",round(SI, 4), \"%\")"
   ]
  },
  {
   "cell_type": "markdown",
   "id": "e356c1ec-13d0-4cdf-b00a-54e86188a827",
   "metadata": {},
   "source": [
    "Imbalanced dataset"
   ]
  },
  {
   "cell_type": "markdown",
   "id": "4ceae74f-479a-461d-9a0d-339b56ceb920",
   "metadata": {},
   "source": [
    "# Split train - test"
   ]
  },
  {
   "cell_type": "code",
   "execution_count": 6,
   "id": "e13b76a5-5b94-41be-8af2-557ac9063e80",
   "metadata": {},
   "outputs": [
    {
     "name": "stdout",
     "output_type": "stream",
     "text": [
      "(186, 1410) (186, 1410)\n"
     ]
    }
   ],
   "source": [
    "from sklearn.model_selection import train_test_split\n",
    "\n",
    "# Load X and Y \n",
    "X = df.drop(['Stability'], axis = 1)\n",
    "y = df['Stability']\n",
    "\n",
    "x_train, x_test, y_train, y_test = train_test_split(X, y, test_size=.50,\n",
    "                                                stratify=y, random_state=SEED)\n",
    "\n",
    "y_train = pd.DataFrame(y_train)\n",
    "y_test = pd.DataFrame(y_test)\n",
    "\n",
    "print(x_train.shape, x_test.shape)"
   ]
  },
  {
   "cell_type": "code",
   "execution_count": 7,
   "id": "5a15f012-cde8-4933-9f27-8373965225ad",
   "metadata": {},
   "outputs": [
    {
     "name": "stdout",
     "output_type": "stream",
     "text": [
      "The Stability Index on TRAIN SET is: SI = 19.8925 %\n",
      "The Stability Index on TEST SET is: SI = 19.3548 %\n"
     ]
    }
   ],
   "source": [
    "SI_train = len(y_train[y_train['Stability']==1])/len(y_train) * 100\n",
    "print(\"The Stability Index on TRAIN SET is: SI =\",round(SI_train, 4), \"%\")\n",
    "\n",
    "SI_test = len(y_test[y_test['Stability']==1])/len(y_test) * 100\n",
    "print(\"The Stability Index on TEST SET is: SI =\",round(SI_test, 4), \"%\")"
   ]
  },
  {
   "cell_type": "markdown",
   "id": "4a8b7374-2c93-4f05-9198-902a88d34500",
   "metadata": {},
   "source": [
    "# Normalize data"
   ]
  },
  {
   "cell_type": "code",
   "execution_count": 8,
   "id": "39da4c04-2d12-466a-8d32-fdf186085a5c",
   "metadata": {},
   "outputs": [
    {
     "data": {
      "text/html": [
       "<div>\n",
       "<style scoped>\n",
       "    .dataframe tbody tr th:only-of-type {\n",
       "        vertical-align: middle;\n",
       "    }\n",
       "\n",
       "    .dataframe tbody tr th {\n",
       "        vertical-align: top;\n",
       "    }\n",
       "\n",
       "    .dataframe thead th {\n",
       "        text-align: right;\n",
       "    }\n",
       "</style>\n",
       "<table border=\"1\" class=\"dataframe\">\n",
       "  <thead>\n",
       "    <tr style=\"text-align: right;\">\n",
       "      <th></th>\n",
       "      <th>Gamma_AATA</th>\n",
       "      <th>Gamma_IPPS</th>\n",
       "      <th>Gamma_IPPSm</th>\n",
       "      <th>Gamma_DHQTi</th>\n",
       "      <th>Gamma_ADCS</th>\n",
       "      <th>Gamma_ABTA</th>\n",
       "      <th>Gamma_PGL</th>\n",
       "      <th>Gamma_ACACT1r</th>\n",
       "      <th>Gamma_ACOAHim</th>\n",
       "      <th>Gamma_ACOTAim</th>\n",
       "      <th>...</th>\n",
       "      <th>sigma_km_substrate_ccm2tp</th>\n",
       "      <th>sigma_km_product_ccm2tp</th>\n",
       "      <th>sigma_km_substrate_pca2tp</th>\n",
       "      <th>sigma_km_product_pca2tp</th>\n",
       "      <th>sigma_km_substrate_r2073_1</th>\n",
       "      <th>sigma_km_product_r2073_1</th>\n",
       "      <th>sigma_km_substrate1_r_4235</th>\n",
       "      <th>sigma_km_product1_r_4235</th>\n",
       "      <th>sigma_km_substrate2_r_4235</th>\n",
       "      <th>sigma_km_product2_r_4235</th>\n",
       "    </tr>\n",
       "  </thead>\n",
       "  <tbody>\n",
       "    <tr>\n",
       "      <th>260</th>\n",
       "      <td>0.233228</td>\n",
       "      <td>1.164103</td>\n",
       "      <td>-0.082735</td>\n",
       "      <td>0.903378</td>\n",
       "      <td>0.110126</td>\n",
       "      <td>0.641018</td>\n",
       "      <td>0.109187</td>\n",
       "      <td>0.472461</td>\n",
       "      <td>-0.100783</td>\n",
       "      <td>0.121449</td>\n",
       "      <td>...</td>\n",
       "      <td>1.445949</td>\n",
       "      <td>-0.595742</td>\n",
       "      <td>0.349522</td>\n",
       "      <td>1.071556</td>\n",
       "      <td>-0.956004</td>\n",
       "      <td>-0.139219</td>\n",
       "      <td>-0.169800</td>\n",
       "      <td>1.449252</td>\n",
       "      <td>0.943261</td>\n",
       "      <td>-0.488307</td>\n",
       "    </tr>\n",
       "    <tr>\n",
       "      <th>10</th>\n",
       "      <td>-1.101738</td>\n",
       "      <td>-1.085726</td>\n",
       "      <td>-0.082735</td>\n",
       "      <td>-1.073565</td>\n",
       "      <td>1.982600</td>\n",
       "      <td>-1.174234</td>\n",
       "      <td>-0.493777</td>\n",
       "      <td>-1.927263</td>\n",
       "      <td>-0.100783</td>\n",
       "      <td>-1.099421</td>\n",
       "      <td>...</td>\n",
       "      <td>0.689266</td>\n",
       "      <td>-1.695237</td>\n",
       "      <td>1.153046</td>\n",
       "      <td>-0.639033</td>\n",
       "      <td>0.508114</td>\n",
       "      <td>-1.204386</td>\n",
       "      <td>0.603404</td>\n",
       "      <td>-0.083029</td>\n",
       "      <td>1.281741</td>\n",
       "      <td>-0.579982</td>\n",
       "    </tr>\n",
       "  </tbody>\n",
       "</table>\n",
       "<p>2 rows × 1410 columns</p>\n",
       "</div>"
      ],
      "text/plain": [
       "     Gamma_AATA  Gamma_IPPS  Gamma_IPPSm  Gamma_DHQTi  Gamma_ADCS  Gamma_ABTA  \\\n",
       "260    0.233228    1.164103    -0.082735     0.903378    0.110126    0.641018   \n",
       "10    -1.101738   -1.085726    -0.082735    -1.073565    1.982600   -1.174234   \n",
       "\n",
       "     Gamma_PGL  Gamma_ACACT1r  Gamma_ACOAHim  Gamma_ACOTAim  ...  \\\n",
       "260   0.109187       0.472461      -0.100783       0.121449  ...   \n",
       "10   -0.493777      -1.927263      -0.100783      -1.099421  ...   \n",
       "\n",
       "     sigma_km_substrate_ccm2tp  sigma_km_product_ccm2tp  \\\n",
       "260                   1.445949                -0.595742   \n",
       "10                    0.689266                -1.695237   \n",
       "\n",
       "     sigma_km_substrate_pca2tp  sigma_km_product_pca2tp  \\\n",
       "260                   0.349522                 1.071556   \n",
       "10                    1.153046                -0.639033   \n",
       "\n",
       "     sigma_km_substrate_r2073_1  sigma_km_product_r2073_1  \\\n",
       "260                   -0.956004                 -0.139219   \n",
       "10                     0.508114                 -1.204386   \n",
       "\n",
       "     sigma_km_substrate1_r_4235  sigma_km_product1_r_4235  \\\n",
       "260                   -0.169800                  1.449252   \n",
       "10                     0.603404                 -0.083029   \n",
       "\n",
       "     sigma_km_substrate2_r_4235  sigma_km_product2_r_4235  \n",
       "260                    0.943261                 -0.488307  \n",
       "10                     1.281741                 -0.579982  \n",
       "\n",
       "[2 rows x 1410 columns]"
      ]
     },
     "metadata": {},
     "output_type": "display_data"
    },
    {
     "data": {
      "text/html": [
       "<div>\n",
       "<style scoped>\n",
       "    .dataframe tbody tr th:only-of-type {\n",
       "        vertical-align: middle;\n",
       "    }\n",
       "\n",
       "    .dataframe tbody tr th {\n",
       "        vertical-align: top;\n",
       "    }\n",
       "\n",
       "    .dataframe thead th {\n",
       "        text-align: right;\n",
       "    }\n",
       "</style>\n",
       "<table border=\"1\" class=\"dataframe\">\n",
       "  <thead>\n",
       "    <tr style=\"text-align: right;\">\n",
       "      <th></th>\n",
       "      <th>Gamma_AATA</th>\n",
       "      <th>Gamma_IPPS</th>\n",
       "      <th>Gamma_IPPSm</th>\n",
       "      <th>Gamma_DHQTi</th>\n",
       "      <th>Gamma_ADCS</th>\n",
       "      <th>Gamma_ABTA</th>\n",
       "      <th>Gamma_PGL</th>\n",
       "      <th>Gamma_ACACT1r</th>\n",
       "      <th>Gamma_ACOAHim</th>\n",
       "      <th>Gamma_ACOTAim</th>\n",
       "      <th>...</th>\n",
       "      <th>sigma_km_substrate_ccm2tp</th>\n",
       "      <th>sigma_km_product_ccm2tp</th>\n",
       "      <th>sigma_km_substrate_pca2tp</th>\n",
       "      <th>sigma_km_product_pca2tp</th>\n",
       "      <th>sigma_km_substrate_r2073_1</th>\n",
       "      <th>sigma_km_product_r2073_1</th>\n",
       "      <th>sigma_km_substrate1_r_4235</th>\n",
       "      <th>sigma_km_product1_r_4235</th>\n",
       "      <th>sigma_km_substrate2_r_4235</th>\n",
       "      <th>sigma_km_product2_r_4235</th>\n",
       "    </tr>\n",
       "  </thead>\n",
       "  <tbody>\n",
       "    <tr>\n",
       "      <th>192</th>\n",
       "      <td>0.233228</td>\n",
       "      <td>1.164103</td>\n",
       "      <td>-0.082735</td>\n",
       "      <td>0.903378</td>\n",
       "      <td>0.110126</td>\n",
       "      <td>0.641018</td>\n",
       "      <td>0.109187</td>\n",
       "      <td>0.472461</td>\n",
       "      <td>-0.100783</td>\n",
       "      <td>0.121449</td>\n",
       "      <td>...</td>\n",
       "      <td>1.226394</td>\n",
       "      <td>-1.430546</td>\n",
       "      <td>0.094896</td>\n",
       "      <td>0.374081</td>\n",
       "      <td>-0.325519</td>\n",
       "      <td>-0.772249</td>\n",
       "      <td>0.733018</td>\n",
       "      <td>-1.196445</td>\n",
       "      <td>0.217006</td>\n",
       "      <td>0.382034</td>\n",
       "    </tr>\n",
       "    <tr>\n",
       "      <th>333</th>\n",
       "      <td>0.569547</td>\n",
       "      <td>-1.308452</td>\n",
       "      <td>-0.082453</td>\n",
       "      <td>-1.463309</td>\n",
       "      <td>-1.604350</td>\n",
       "      <td>-0.791388</td>\n",
       "      <td>-1.086416</td>\n",
       "      <td>0.436678</td>\n",
       "      <td>-0.100782</td>\n",
       "      <td>1.062915</td>\n",
       "      <td>...</td>\n",
       "      <td>1.058484</td>\n",
       "      <td>-0.527998</td>\n",
       "      <td>1.523976</td>\n",
       "      <td>-0.713693</td>\n",
       "      <td>0.459409</td>\n",
       "      <td>1.112433</td>\n",
       "      <td>1.335852</td>\n",
       "      <td>-1.477344</td>\n",
       "      <td>1.494100</td>\n",
       "      <td>-0.984806</td>\n",
       "    </tr>\n",
       "  </tbody>\n",
       "</table>\n",
       "<p>2 rows × 1410 columns</p>\n",
       "</div>"
      ],
      "text/plain": [
       "     Gamma_AATA  Gamma_IPPS  Gamma_IPPSm  Gamma_DHQTi  Gamma_ADCS  Gamma_ABTA  \\\n",
       "192    0.233228    1.164103    -0.082735     0.903378    0.110126    0.641018   \n",
       "333    0.569547   -1.308452    -0.082453    -1.463309   -1.604350   -0.791388   \n",
       "\n",
       "     Gamma_PGL  Gamma_ACACT1r  Gamma_ACOAHim  Gamma_ACOTAim  ...  \\\n",
       "192   0.109187       0.472461      -0.100783       0.121449  ...   \n",
       "333  -1.086416       0.436678      -0.100782       1.062915  ...   \n",
       "\n",
       "     sigma_km_substrate_ccm2tp  sigma_km_product_ccm2tp  \\\n",
       "192                   1.226394                -1.430546   \n",
       "333                   1.058484                -0.527998   \n",
       "\n",
       "     sigma_km_substrate_pca2tp  sigma_km_product_pca2tp  \\\n",
       "192                   0.094896                 0.374081   \n",
       "333                   1.523976                -0.713693   \n",
       "\n",
       "     sigma_km_substrate_r2073_1  sigma_km_product_r2073_1  \\\n",
       "192                   -0.325519                 -0.772249   \n",
       "333                    0.459409                  1.112433   \n",
       "\n",
       "     sigma_km_substrate1_r_4235  sigma_km_product1_r_4235  \\\n",
       "192                    0.733018                 -1.196445   \n",
       "333                    1.335852                 -1.477344   \n",
       "\n",
       "     sigma_km_substrate2_r_4235  sigma_km_product2_r_4235  \n",
       "192                    0.217006                  0.382034  \n",
       "333                    1.494100                 -0.984806  \n",
       "\n",
       "[2 rows x 1410 columns]"
      ]
     },
     "metadata": {},
     "output_type": "display_data"
    }
   ],
   "source": [
    "scaler = StandardScaler()\n",
    "\n",
    "X_train = scaler.fit_transform(x_train)\n",
    "X_test = scaler.transform(x_test)\n",
    "\n",
    "X_train = pd.DataFrame(X_train, columns=x_train.columns)\n",
    "X_train.index = x_train.index\n",
    "\n",
    "X_test = pd.DataFrame(X_test, columns=x_test.columns)\n",
    "X_test.index = x_test.index\n",
    "\n",
    "display(X_train.head(2))\n",
    "display(X_test.head(2))"
   ]
  },
  {
   "cell_type": "markdown",
   "id": "f6e274b9-8c62-4c4c-b50a-f40a54ba532b",
   "metadata": {},
   "source": [
    "# BLACK-BOX MODEL"
   ]
  },
  {
   "cell_type": "code",
   "execution_count": 45,
   "id": "c136ede0-7ec5-4059-ba40-905120a6a926",
   "metadata": {
    "tags": []
   },
   "outputs": [],
   "source": [
    "try:\n",
    "    \n",
    "    # load the model from disk\n",
    "    filename = \"../models/svc_model.sav\"\n",
    "    best_svc = pickle.load(open(filename, 'rb'))\n",
    "\n",
    "except FileNotFoundError:\n",
    "\n",
    "    # =================\n",
    "    # SVC\n",
    "    # =================\n",
    "\n",
    "    param_grid_svc = {'C': [0.001, 0.005, 0.01, 0.02, 0.05, 0.08, 1, 1.5, 2, 2.5, 3, 5, 10, 12, 20, 25, 50],\n",
    "                'gamma': [0.002, 0.003, 0.004, 0.001, 0.005, 0.01, 0.05, 0.1, 0.2, 0.5],\n",
    "                'kernel': ['rbf', 'linear']\n",
    "    }\n",
    "\n",
    "    svc = SVC(random_state=SEED)\n",
    "    best_svc = tune_model(svc, param_grid_svc, 1000, X_train, y_train.values.ravel())\n",
    "    score, y_pred_svc = run_model(best_svc, X_train, y_train.values.ravel(),\n",
    "        X_test, y_test.values.ravel())\n",
    "\n",
    "    filename = \"../models/svc_model.sav\"\n",
    "    pickle.dump(best_svc, open(filename, 'wb'))   \n"
   ]
  },
  {
   "cell_type": "code",
   "execution_count": 46,
   "id": "0f4ffeed-7ef8-471b-bf89-b0fbc6dae1ab",
   "metadata": {},
   "outputs": [
    {
     "name": "stdout",
     "output_type": "stream",
     "text": [
      "SVC(C=0.001, gamma=0.002, kernel='linear', random_state=42)\n"
     ]
    }
   ],
   "source": [
    "print(best_svc)"
   ]
  },
  {
   "cell_type": "code",
   "execution_count": 47,
   "id": "8450d97b-8ac4-43d7-bc77-3df1203d21a8",
   "metadata": {},
   "outputs": [
    {
     "name": "stdout",
     "output_type": "stream",
     "text": [
      "ROCAUC score: 0.7339\n",
      "Accuracy score: 0.8602\n",
      "F1 score: 0.5937\n",
      "Precision score: 0.6786\n",
      "Recall: 0.5278\n"
     ]
    }
   ],
   "source": [
    "print_scores(y_test, y_pred_svc)"
   ]
  },
  {
   "cell_type": "markdown",
   "id": "96064036-571f-41a9-a5e0-eae7dd1e2913",
   "metadata": {},
   "source": [
    "# SURROGATE MODEL"
   ]
  },
  {
   "cell_type": "markdown",
   "id": "941f140a-95ca-4b05-90c2-a7aa3c4bda58",
   "metadata": {},
   "source": [
    "Εκπαίδευση του surrogate model (decision tree) στο train set χρησιμοποιώντας τις προβλέψεις του svm στο train set."
   ]
  },
  {
   "cell_type": "code",
   "execution_count": 48,
   "id": "576c1d14-a30f-4960-a651-722ff31a04f3",
   "metadata": {},
   "outputs": [
    {
     "name": "stdout",
     "output_type": "stream",
     "text": [
      "ROCAUC score: 0.9089\n",
      "Accuracy score: 0.9516\n",
      "F1 score: 0.8732\n",
      "Precision score: 0.9118\n",
      "Recall: 0.8378\n"
     ]
    }
   ],
   "source": [
    "y_pred_train_svc = best_svc.predict(X_train)\n",
    "print_scores(y_train, y_pred_train_svc)"
   ]
  },
  {
   "cell_type": "code",
   "execution_count": 50,
   "id": "72d00d7a-35fd-4d3c-9efd-7889428e04c4",
   "metadata": {},
   "outputs": [],
   "source": [
    "# =================\n",
    "# DecisionTree\n",
    "# =================\n",
    "surrogate = DecisionTreeClassifier(random_state=SEED)\n",
    "\n",
    "score, y_pred_surrogate = run_model(surrogate, X_train, y_pred_train_svc,\n",
    "    X_test, y_test.values.ravel())"
   ]
  },
  {
   "cell_type": "code",
   "execution_count": 51,
   "id": "cf2fdb4d-2716-457f-b368-48cc277c0dc8",
   "metadata": {},
   "outputs": [
    {
     "name": "stdout",
     "output_type": "stream",
     "text": [
      "ROCAUC score: 0.5517\n",
      "Accuracy score: 0.7151\n",
      "F1 score: 0.274\n",
      "Precision score: 0.2564\n",
      "Recall: 0.2941\n"
     ]
    }
   ],
   "source": [
    "print_scores(y_pred_train_svc, y_pred_surrogate)"
   ]
  },
  {
   "cell_type": "markdown",
   "id": "a6f9a9ba-b565-42b7-a2bb-9b3180b1c0c9",
   "metadata": {
    "tags": []
   },
   "source": [
    "# Validation set\n",
    "\n",
    "## Rule 1:\n",
    "\n",
    "-   if (sigma_km_substrate2_AKGMALtm > -1.411) and (Gamma_PHETRA > 1.786) and (sigma_km_substrate44_LMPD_s_0450_c_1_256 > -0.254) and (sigma_km_substrate3_CTPS2 <= 1.552) then class: 1 (proba: 100.0%) | based on 16 samples\n",
    "\n",
    "Sample from test set rows based on __Rule 1__ (_Validation set_)"
   ]
  },
  {
   "cell_type": "code",
   "execution_count": 61,
   "id": "94b3be40-5244-4dae-b2f9-6a61251dee2c",
   "metadata": {},
   "outputs": [],
   "source": [
    "index_GP = X_test[(X_test['sigma_km_substrate2_AKGMALtm'] > -1.411) & (X_test['Gamma_PHETRA'] > 1.786) & (X_test['sigma_km_substrate44_LMPD_s_0450_c_1_256'] > -0.254)\n",
    "                 & (X_test['sigma_km_substrate3_CTPS2'] <= 1.552)].index"
   ]
  },
  {
   "cell_type": "code",
   "execution_count": 62,
   "id": "8e73607e-a9d5-442c-8a21-465564f76b65",
   "metadata": {},
   "outputs": [
    {
     "name": "stdout",
     "output_type": "stream",
     "text": [
      "The Stability Index on VALIDATION SET (sampled from TEST SET) is: SI = 0.8333 %\n",
      "The Stability Index on TEST SET is: SI = 19.3548 %\n"
     ]
    }
   ],
   "source": [
    "y_val = y_test.loc[index_GP]\n",
    "SI_val = y_val['Stability'].value_counts()[1] / len(y_val)\n",
    "print(\"The Stability Index on VALIDATION SET (sampled from TEST SET) is: SI =\",round(SI_val, 4), \"%\")\n",
    "\n",
    "print(\"The Stability Index on TEST SET is: SI =\",round(SI_test, 4), \"%\")"
   ]
  },
  {
   "cell_type": "code",
   "execution_count": 63,
   "id": "29bb0309-2dd0-4b9a-ade5-768b511a31fd",
   "metadata": {},
   "outputs": [
    {
     "data": {
      "text/html": [
       "<div>\n",
       "<style scoped>\n",
       "    .dataframe tbody tr th:only-of-type {\n",
       "        vertical-align: middle;\n",
       "    }\n",
       "\n",
       "    .dataframe tbody tr th {\n",
       "        vertical-align: top;\n",
       "    }\n",
       "\n",
       "    .dataframe thead th {\n",
       "        text-align: right;\n",
       "    }\n",
       "</style>\n",
       "<table border=\"1\" class=\"dataframe\">\n",
       "  <thead>\n",
       "    <tr style=\"text-align: right;\">\n",
       "      <th></th>\n",
       "      <th>Stability</th>\n",
       "    </tr>\n",
       "  </thead>\n",
       "  <tbody>\n",
       "    <tr>\n",
       "      <th>57</th>\n",
       "      <td>1</td>\n",
       "    </tr>\n",
       "    <tr>\n",
       "      <th>29</th>\n",
       "      <td>1</td>\n",
       "    </tr>\n",
       "    <tr>\n",
       "      <th>33</th>\n",
       "      <td>1</td>\n",
       "    </tr>\n",
       "    <tr>\n",
       "      <th>30</th>\n",
       "      <td>1</td>\n",
       "    </tr>\n",
       "    <tr>\n",
       "      <th>58</th>\n",
       "      <td>1</td>\n",
       "    </tr>\n",
       "    <tr>\n",
       "      <th>65</th>\n",
       "      <td>0</td>\n",
       "    </tr>\n",
       "    <tr>\n",
       "      <th>50</th>\n",
       "      <td>1</td>\n",
       "    </tr>\n",
       "    <tr>\n",
       "      <th>40</th>\n",
       "      <td>1</td>\n",
       "    </tr>\n",
       "    <tr>\n",
       "      <th>47</th>\n",
       "      <td>1</td>\n",
       "    </tr>\n",
       "    <tr>\n",
       "      <th>60</th>\n",
       "      <td>0</td>\n",
       "    </tr>\n",
       "    <tr>\n",
       "      <th>46</th>\n",
       "      <td>1</td>\n",
       "    </tr>\n",
       "    <tr>\n",
       "      <th>43</th>\n",
       "      <td>1</td>\n",
       "    </tr>\n",
       "  </tbody>\n",
       "</table>\n",
       "</div>"
      ],
      "text/plain": [
       "    Stability\n",
       "57          1\n",
       "29          1\n",
       "33          1\n",
       "30          1\n",
       "58          1\n",
       "65          0\n",
       "50          1\n",
       "40          1\n",
       "47          1\n",
       "60          0\n",
       "46          1\n",
       "43          1"
      ]
     },
     "execution_count": 63,
     "metadata": {},
     "output_type": "execute_result"
    }
   ],
   "source": [
    "y_val"
   ]
  },
  {
   "cell_type": "markdown",
   "id": "41c6a763-6c02-48e8-8e23-95d2d09e4a54",
   "metadata": {},
   "source": [
    "# Extract Rules using DecisionTree "
   ]
  },
  {
   "cell_type": "code",
   "execution_count": 37,
   "id": "b25d220f-f610-4e0b-8a14-fb77c9bafa08",
   "metadata": {
    "tags": []
   },
   "outputs": [],
   "source": [
    "try:\n",
    "    \n",
    "    # load the model from disk\n",
    "    filename = \"../models/tuned_tree_model.sav\"\n",
    "    best_tree = pickle.load(open(filename, 'rb'))\n",
    "\n",
    "except FileNotFoundError:\n",
    "\n",
    "    # ===============\n",
    "    # DecisionTree\n",
    "    # =================\n",
    "\n",
    "    param_grid_tree = {\n",
    "        'max_depth': [2, 3, 4, 5, 6, 7, 8, 9, 10, 20, 25, 30, 40, 50, 100],\n",
    "        'min_samples_leaf': [5, 6, 7, 8, 9, 10, 15, 20, 25, 50, 100],\n",
    "        'criterion': [\"gini\", \"entropy\"]\n",
    "    }\n",
    "\n",
    "    dec_tree = DecisionTreeClassifier(random_state=SEED)\n",
    "\n",
    "    best_tree = tune_model(dec_tree, param_grid_tree, 1000, X_train, y_train.values.ravel())\n",
    "    score, y_pred = run_model(best_tree, X_train, y_train.values.ravel(),\n",
    "        X_test, y_test.values.ravel())\n",
    "\n",
    "    filename = \"../models/tuned_tree_model.sav\"\n",
    "    pickle.dump(best_tree, open(filename, 'wb'))   "
   ]
  },
  {
   "cell_type": "code",
   "execution_count": 38,
   "id": "84e3684f-60b5-48d8-abd8-15a0a75ffcdb",
   "metadata": {},
   "outputs": [
    {
     "name": "stdout",
     "output_type": "stream",
     "text": [
      "DecisionTreeClassifier(max_depth=3, min_samples_leaf=10, random_state=42)\n"
     ]
    }
   ],
   "source": [
    "print(best_tree)"
   ]
  },
  {
   "cell_type": "code",
   "execution_count": 39,
   "id": "ed42178f-aec2-456d-940e-aea29fc060b5",
   "metadata": {},
   "outputs": [
    {
     "name": "stdout",
     "output_type": "stream",
     "text": [
      "ROCAUC score: 0.6078\n",
      "Accuracy score: 0.8441\n",
      "F1 score: 0.3556\n",
      "Precision score: 0.8889\n",
      "Recall: 0.2222\n"
     ]
    }
   ],
   "source": [
    "print_scores(y_test, y_pred)"
   ]
  },
  {
   "cell_type": "code",
   "execution_count": 25,
   "id": "2ced7e1c-128f-447f-a44f-0c55f49016c0",
   "metadata": {},
   "outputs": [],
   "source": [
    "class_names = y_train['Stability'].unique().astype(str)\n",
    "feature_names = X_train.columns.values"
   ]
  },
  {
   "cell_type": "code",
   "execution_count": 27,
   "id": "2ac0102d-c1cb-41bf-9934-f9c24f2c586a",
   "metadata": {},
   "outputs": [
    {
     "data": {
      "text/plain": [
       "['if (Gamma_ALAtmi > -1.749) and (sigma_km_product_CO2t <= 1.382) and (sigma_km_substrate2_ILETAm <= 0.995) then class: 0 (proba: 97.41%) | based on 116 samples',\n",
       " 'if (Gamma_ALAtmi > -1.749) and (sigma_km_product_CO2t <= 1.382) and (sigma_km_substrate2_ILETAm > 0.995) then class: 0 (proba: 70.83%) | based on 24 samples',\n",
       " 'if (Gamma_ALAtmi > -1.749) and (sigma_km_product_CO2t > 1.382) then class: 0 (proba: 50.0%) | based on 16 samples',\n",
       " 'if (Gamma_ALAtmi <= -1.749) and (sigma_km_product2_ALCD26xi > 0.557) then class: 1 (proba: 100.0%) | based on 15 samples',\n",
       " 'if (Gamma_ALAtmi <= -1.749) and (sigma_km_product2_ALCD26xi <= 0.557) then class: 0 (proba: 73.33%) | based on 15 samples']"
      ]
     },
     "execution_count": 27,
     "metadata": {},
     "output_type": "execute_result"
    }
   ],
   "source": [
    "rules = get_rules(best_tree, feature_names=feature_names, \n",
    "                  class_names=class_names)\n",
    "\n",
    "rules"
   ]
  },
  {
   "cell_type": "markdown",
   "id": "468c8db9-3166-4353-be17-016c668a92a9",
   "metadata": {
    "tags": []
   },
   "source": [
    "# Validation set\n",
    "\n",
    "## Rule 1:\n",
    "\n",
    "-  if (Gamma_ALAtmi <= -1.749) and (sigma_km_product2_ALCD26xi > 0.557) then class: 1 (proba: 100.0%) | based on 15 samples\n",
    "\n",
    "Sample from test set rows based on __Rule 1__ (_Validation set_)"
   ]
  },
  {
   "cell_type": "code",
   "execution_count": 31,
   "id": "ba8c96ad-322e-4057-a07c-a77db3cf9828",
   "metadata": {},
   "outputs": [],
   "source": [
    "index_GP = X_test[(X_test['Gamma_ALAtmi'] <= -1.749) & (X_test['sigma_km_product2_ALCD26xi'] > 0.557)].index"
   ]
  },
  {
   "cell_type": "code",
   "execution_count": 35,
   "id": "439ee847-22d4-4d88-b764-243d3dbb74fb",
   "metadata": {},
   "outputs": [
    {
     "name": "stdout",
     "output_type": "stream",
     "text": [
      "The Stability Index on VALIDATION SET (sampled from TEST SET) is: SI = 0.8889 %\n",
      "The Stability Index on TEST SET is: SI = 19.3548 %\n"
     ]
    }
   ],
   "source": [
    "y_val = y_test.loc[index_GP]\n",
    "SI_val = y_val['Stability'].value_counts()[1] / len(y_val)\n",
    "print(\"The Stability Index on VALIDATION SET (sampled from TEST SET) is: SI =\",round(SI_val, 4), \"%\")\n",
    "\n",
    "print(\"The Stability Index on TEST SET is: SI =\",round(SI_test, 4), \"%\")"
   ]
  }
 ],
 "metadata": {
  "kernelspec": {
   "display_name": "Python 3 (ipykernel)",
   "language": "python",
   "name": "python3"
  },
  "language_info": {
   "codemirror_mode": {
    "name": "ipython",
    "version": 3
   },
   "file_extension": ".py",
   "mimetype": "text/x-python",
   "name": "python",
   "nbconvert_exporter": "python",
   "pygments_lexer": "ipython3",
   "version": "3.8.10"
  }
 },
 "nbformat": 4,
 "nbformat_minor": 5
}
